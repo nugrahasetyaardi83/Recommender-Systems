{
 "cells": [
  {
   "cell_type": "markdown",
   "metadata": {},
   "source": [
    "## **Content Based Recommenders**\n"
   ]
  },
  {
   "cell_type": "code",
   "execution_count": 1,
   "metadata": {},
   "outputs": [],
   "source": [
    "from urllib.request import urlretrieve\n",
    "import zipfile, os\n",
    "\n",
    "# If file exists, skip the download\n",
    "data_file_path = \"Data_manager_split_datasets/Movielens10M/\"\n",
    "data_file_name = data_file_path + \"movielens_10m.zip\"\n",
    "\n",
    "# If directory does not exist, create\n",
    "if not os.path.exists(data_file_path):\n",
    "    os.makedirs(data_file_path)\n",
    "\n",
    "if not os.path.exists(data_file_name):\n",
    "    urlretrieve (\"http://files.grouplens.org/datasets/movielens/ml-10m.zip\", data_file_name)\n",
    "    \n",
    "dataFile = zipfile.ZipFile(data_file_path + \"movielens_10m.zip\")\n",
    "\n",
    "URM_path = dataFile.extract(\"ml-10M100K/ratings.dat\", path = data_file_path + \"decompressed/\")\n",
    "\n",
    "URM_file = open(URM_path, 'r')"
   ]
  },
  {
   "cell_type": "code",
   "execution_count": 2,
   "metadata": {},
   "outputs": [],
   "source": [
    "import pandas as pd\n",
    "\n",
    "URM_all_dataframe = pd.read_csv(filepath_or_buffer=URM_path, \n",
    "                                sep=\"::\", \n",
    "                                header=None, \n",
    "                                dtype={0:int, 1:int, 2:float, 3:int},\n",
    "                                engine='python')\n",
    "\n",
    "URM_all_dataframe.columns = [\"UserID\", \"ItemID\", \"Interaction\", \"Timestamp\"]"
   ]
  },
  {
   "cell_type": "code",
   "execution_count": 3,
   "metadata": {},
   "outputs": [
    {
     "data": {
      "text/html": [
       "<div>\n",
       "<style scoped>\n",
       "    .dataframe tbody tr th:only-of-type {\n",
       "        vertical-align: middle;\n",
       "    }\n",
       "\n",
       "    .dataframe tbody tr th {\n",
       "        vertical-align: top;\n",
       "    }\n",
       "\n",
       "    .dataframe thead th {\n",
       "        text-align: right;\n",
       "    }\n",
       "</style>\n",
       "<table border=\"1\" class=\"dataframe\">\n",
       "  <thead>\n",
       "    <tr style=\"text-align: right;\">\n",
       "      <th></th>\n",
       "      <th>UserID</th>\n",
       "      <th>ItemID</th>\n",
       "      <th>Interaction</th>\n",
       "      <th>Timestamp</th>\n",
       "    </tr>\n",
       "  </thead>\n",
       "  <tbody>\n",
       "    <tr>\n",
       "      <th>0</th>\n",
       "      <td>1</td>\n",
       "      <td>122</td>\n",
       "      <td>5.0</td>\n",
       "      <td>838985046</td>\n",
       "    </tr>\n",
       "    <tr>\n",
       "      <th>1</th>\n",
       "      <td>1</td>\n",
       "      <td>185</td>\n",
       "      <td>5.0</td>\n",
       "      <td>838983525</td>\n",
       "    </tr>\n",
       "    <tr>\n",
       "      <th>2</th>\n",
       "      <td>1</td>\n",
       "      <td>231</td>\n",
       "      <td>5.0</td>\n",
       "      <td>838983392</td>\n",
       "    </tr>\n",
       "    <tr>\n",
       "      <th>3</th>\n",
       "      <td>1</td>\n",
       "      <td>292</td>\n",
       "      <td>5.0</td>\n",
       "      <td>838983421</td>\n",
       "    </tr>\n",
       "    <tr>\n",
       "      <th>4</th>\n",
       "      <td>1</td>\n",
       "      <td>316</td>\n",
       "      <td>5.0</td>\n",
       "      <td>838983392</td>\n",
       "    </tr>\n",
       "    <tr>\n",
       "      <th>5</th>\n",
       "      <td>1</td>\n",
       "      <td>329</td>\n",
       "      <td>5.0</td>\n",
       "      <td>838983392</td>\n",
       "    </tr>\n",
       "    <tr>\n",
       "      <th>6</th>\n",
       "      <td>1</td>\n",
       "      <td>355</td>\n",
       "      <td>5.0</td>\n",
       "      <td>838984474</td>\n",
       "    </tr>\n",
       "    <tr>\n",
       "      <th>7</th>\n",
       "      <td>1</td>\n",
       "      <td>356</td>\n",
       "      <td>5.0</td>\n",
       "      <td>838983653</td>\n",
       "    </tr>\n",
       "    <tr>\n",
       "      <th>8</th>\n",
       "      <td>1</td>\n",
       "      <td>362</td>\n",
       "      <td>5.0</td>\n",
       "      <td>838984885</td>\n",
       "    </tr>\n",
       "    <tr>\n",
       "      <th>9</th>\n",
       "      <td>1</td>\n",
       "      <td>364</td>\n",
       "      <td>5.0</td>\n",
       "      <td>838983707</td>\n",
       "    </tr>\n",
       "  </tbody>\n",
       "</table>\n",
       "</div>"
      ],
      "text/plain": [
       "   UserID  ItemID  Interaction  Timestamp\n",
       "0       1     122          5.0  838985046\n",
       "1       1     185          5.0  838983525\n",
       "2       1     231          5.0  838983392\n",
       "3       1     292          5.0  838983421\n",
       "4       1     316          5.0  838983392\n",
       "5       1     329          5.0  838983392\n",
       "6       1     355          5.0  838984474\n",
       "7       1     356          5.0  838983653\n",
       "8       1     362          5.0  838984885\n",
       "9       1     364          5.0  838983707"
      ]
     },
     "execution_count": 3,
     "metadata": {},
     "output_type": "execute_result"
    }
   ],
   "source": [
    "URM_all_dataframe.head(n=10)"
   ]
  },
  {
   "cell_type": "markdown",
   "metadata": {},
   "source": [
    "## And now load the content informations in the same way:\n",
    "## In this case we are using tags. The ICM also contains the user that added the tag in column 0 (but we don't use that information)."
   ]
  },
  {
   "cell_type": "code",
   "execution_count": 4,
   "metadata": {},
   "outputs": [],
   "source": [
    "ICM_path = dataFile.extract(\"ml-10M100K/tags.dat\", path = data_file_path + \"decompressed/\")\n",
    "\n",
    "ICM_dataframe = pd.read_csv(filepath_or_buffer=ICM_path, \n",
    "                            sep=\"::\", \n",
    "                            header=None, \n",
    "                            dtype={0:int, 1:int, 2:str, 3:int},\n",
    "                            engine='python')\n",
    "\n",
    "ICM_dataframe.columns = [\"UserID\", \"ItemID\", \"FeatureID\", \"Timestamp\"]"
   ]
  },
  {
   "cell_type": "code",
   "execution_count": 5,
   "metadata": {},
   "outputs": [
    {
     "data": {
      "text/html": [
       "<div>\n",
       "<style scoped>\n",
       "    .dataframe tbody tr th:only-of-type {\n",
       "        vertical-align: middle;\n",
       "    }\n",
       "\n",
       "    .dataframe tbody tr th {\n",
       "        vertical-align: top;\n",
       "    }\n",
       "\n",
       "    .dataframe thead th {\n",
       "        text-align: right;\n",
       "    }\n",
       "</style>\n",
       "<table border=\"1\" class=\"dataframe\">\n",
       "  <thead>\n",
       "    <tr style=\"text-align: right;\">\n",
       "      <th></th>\n",
       "      <th>UserID</th>\n",
       "      <th>ItemID</th>\n",
       "      <th>FeatureID</th>\n",
       "      <th>Timestamp</th>\n",
       "    </tr>\n",
       "  </thead>\n",
       "  <tbody>\n",
       "    <tr>\n",
       "      <th>0</th>\n",
       "      <td>15</td>\n",
       "      <td>4973</td>\n",
       "      <td>excellent!</td>\n",
       "      <td>1215184630</td>\n",
       "    </tr>\n",
       "    <tr>\n",
       "      <th>1</th>\n",
       "      <td>20</td>\n",
       "      <td>1747</td>\n",
       "      <td>politics</td>\n",
       "      <td>1188263867</td>\n",
       "    </tr>\n",
       "    <tr>\n",
       "      <th>2</th>\n",
       "      <td>20</td>\n",
       "      <td>1747</td>\n",
       "      <td>satire</td>\n",
       "      <td>1188263867</td>\n",
       "    </tr>\n",
       "    <tr>\n",
       "      <th>3</th>\n",
       "      <td>20</td>\n",
       "      <td>2424</td>\n",
       "      <td>chick flick 212</td>\n",
       "      <td>1188263835</td>\n",
       "    </tr>\n",
       "    <tr>\n",
       "      <th>4</th>\n",
       "      <td>20</td>\n",
       "      <td>2424</td>\n",
       "      <td>hanks</td>\n",
       "      <td>1188263835</td>\n",
       "    </tr>\n",
       "    <tr>\n",
       "      <th>5</th>\n",
       "      <td>20</td>\n",
       "      <td>2424</td>\n",
       "      <td>ryan</td>\n",
       "      <td>1188263835</td>\n",
       "    </tr>\n",
       "    <tr>\n",
       "      <th>6</th>\n",
       "      <td>20</td>\n",
       "      <td>2947</td>\n",
       "      <td>action</td>\n",
       "      <td>1188263755</td>\n",
       "    </tr>\n",
       "    <tr>\n",
       "      <th>7</th>\n",
       "      <td>20</td>\n",
       "      <td>2947</td>\n",
       "      <td>bond</td>\n",
       "      <td>1188263756</td>\n",
       "    </tr>\n",
       "    <tr>\n",
       "      <th>8</th>\n",
       "      <td>20</td>\n",
       "      <td>3033</td>\n",
       "      <td>spoof</td>\n",
       "      <td>1188263880</td>\n",
       "    </tr>\n",
       "    <tr>\n",
       "      <th>9</th>\n",
       "      <td>20</td>\n",
       "      <td>3033</td>\n",
       "      <td>star wars</td>\n",
       "      <td>1188263880</td>\n",
       "    </tr>\n",
       "  </tbody>\n",
       "</table>\n",
       "</div>"
      ],
      "text/plain": [
       "   UserID  ItemID        FeatureID   Timestamp\n",
       "0      15    4973       excellent!  1215184630\n",
       "1      20    1747         politics  1188263867\n",
       "2      20    1747           satire  1188263867\n",
       "3      20    2424  chick flick 212  1188263835\n",
       "4      20    2424            hanks  1188263835\n",
       "5      20    2424             ryan  1188263835\n",
       "6      20    2947           action  1188263755\n",
       "7      20    2947             bond  1188263756\n",
       "8      20    3033            spoof  1188263880\n",
       "9      20    3033        star wars  1188263880"
      ]
     },
     "execution_count": 5,
     "metadata": {},
     "output_type": "execute_result"
    }
   ],
   "source": [
    "ICM_dataframe.head(n=10)"
   ]
  },
  {
   "cell_type": "markdown",
   "metadata": {},
   "source": [
    "### We can see that most users and items have no data associated to them"
   ]
  },
  {
   "cell_type": "code",
   "execution_count": 6,
   "metadata": {},
   "outputs": [
    {
     "name": "stdout",
     "output_type": "stream",
     "text": [
      "Number of tags\t 16529, Number of item-tag tuples 95580\n"
     ]
    }
   ],
   "source": [
    "n_features = len(ICM_dataframe[\"FeatureID\"].unique())\n",
    "\n",
    "print (\"Number of tags\\t {}, Number of item-tag tuples {}\".format(n_features, len(ICM_dataframe)))"
   ]
  },
  {
   "cell_type": "markdown",
   "metadata": {},
   "source": [
    "## We now build the sparse URM and ICM matrices\n",
    "\n",
    "### The tags are strings, we should traslate them into numbers so we can use them as indices in the ICM.\n",
    "### We should also ensure that the item and user indices we use in ICM and URM are consistent. To do so we use the same mapper, first we populate it with the URM and then we add the new ids that appear only in the ICM"
   ]
  },
  {
   "cell_type": "code",
   "execution_count": 7,
   "metadata": {},
   "outputs": [
    {
     "name": "stdout",
     "output_type": "stream",
     "text": [
      "Unique user_id in the URM are 69878\n",
      "Unique user_id in the URM and ICM are 71567\n"
     ]
    }
   ],
   "source": [
    "user_original_ID_to_index_dict = {}\n",
    "\n",
    "for user_id in URM_all_dataframe[\"UserID\"].unique():\n",
    "    user_original_ID_to_index_dict[user_id] = len(user_original_ID_to_index_dict)  \n",
    "\n",
    "print(\"Unique user_id in the URM are {}\".format(len(user_original_ID_to_index_dict)))\n",
    "    \n",
    "for user_id in ICM_dataframe[\"UserID\"].unique():\n",
    "    if user_id not in user_original_ID_to_index_dict:\n",
    "        user_original_ID_to_index_dict[user_id] = len(user_original_ID_to_index_dict)\n",
    "        \n",
    "print(\"Unique user_id in the URM and ICM are {}\".format(len(user_original_ID_to_index_dict)))"
   ]
  },
  {
   "cell_type": "code",
   "execution_count": 8,
   "metadata": {},
   "outputs": [
    {
     "name": "stdout",
     "output_type": "stream",
     "text": [
      "Unique item_id in the URM are 10677\n",
      "Unique item_id in the URM and ICM are 10681\n"
     ]
    }
   ],
   "source": [
    "item_original_ID_to_index_dict = {}\n",
    "\n",
    "for item_id in URM_all_dataframe[\"ItemID\"].unique():\n",
    "    item_original_ID_to_index_dict[item_id] = len(item_original_ID_to_index_dict)\n",
    "\n",
    "print(\"Unique item_id in the URM are {}\".format(len(item_original_ID_to_index_dict)))\n",
    "    \n",
    "for item_id in ICM_dataframe[\"ItemID\"].unique():\n",
    "    if item_id not in item_original_ID_to_index_dict:\n",
    "        item_original_ID_to_index_dict[item_id] = len(item_original_ID_to_index_dict)\n",
    "        \n",
    "print(\"Unique item_id in the URM and ICM are {}\".format(len(item_original_ID_to_index_dict)))"
   ]
  },
  {
   "cell_type": "code",
   "execution_count": 9,
   "metadata": {},
   "outputs": [
    {
     "name": "stdout",
     "output_type": "stream",
     "text": [
      "Unique feature_id in the URM are 16529\n"
     ]
    }
   ],
   "source": [
    "feature_original_ID_to_index_dict = {}\n",
    "\n",
    "for feature_id in ICM_dataframe[\"FeatureID\"].unique():\n",
    "    feature_original_ID_to_index_dict[feature_id] = len(feature_original_ID_to_index_dict)\n",
    "\n",
    "print(\"Unique feature_id in the URM are {}\".format(len(feature_original_ID_to_index_dict)))"
   ]
  },
  {
   "cell_type": "code",
   "execution_count": 10,
   "metadata": {},
   "outputs": [
    {
     "name": "stdout",
     "output_type": "stream",
     "text": [
      "New index for feature 'star wars' is 9\n"
     ]
    }
   ],
   "source": [
    "original_feature_ID = \"star wars\"\n",
    "print(\"New index for feature '{}' is {}\".format(original_feature_ID, feature_original_ID_to_index_dict[original_feature_ID]))"
   ]
  },
  {
   "cell_type": "markdown",
   "metadata": {},
   "source": [
    "# We can now build the URM and ICM using the new indices\n"
   ]
  },
  {
   "cell_type": "code",
   "execution_count": 11,
   "metadata": {},
   "outputs": [],
   "source": [
    "URM_all_dataframe[\"UserID\"] = [user_original_ID_to_index_dict[user_original] for user_original in\n",
    "                                      URM_all_dataframe[\"UserID\"].values]\n",
    "\n",
    "URM_all_dataframe[\"ItemID\"] = [item_original_ID_to_index_dict[item_original] for item_original in \n",
    "                                      URM_all_dataframe[\"ItemID\"].values]"
   ]
  },
  {
   "cell_type": "code",
   "execution_count": 12,
   "metadata": {},
   "outputs": [
    {
     "data": {
      "text/html": [
       "<div>\n",
       "<style scoped>\n",
       "    .dataframe tbody tr th:only-of-type {\n",
       "        vertical-align: middle;\n",
       "    }\n",
       "\n",
       "    .dataframe tbody tr th {\n",
       "        vertical-align: top;\n",
       "    }\n",
       "\n",
       "    .dataframe thead th {\n",
       "        text-align: right;\n",
       "    }\n",
       "</style>\n",
       "<table border=\"1\" class=\"dataframe\">\n",
       "  <thead>\n",
       "    <tr style=\"text-align: right;\">\n",
       "      <th></th>\n",
       "      <th>UserID</th>\n",
       "      <th>ItemID</th>\n",
       "      <th>Interaction</th>\n",
       "      <th>Timestamp</th>\n",
       "    </tr>\n",
       "  </thead>\n",
       "  <tbody>\n",
       "    <tr>\n",
       "      <th>0</th>\n",
       "      <td>0</td>\n",
       "      <td>0</td>\n",
       "      <td>5.0</td>\n",
       "      <td>838985046</td>\n",
       "    </tr>\n",
       "    <tr>\n",
       "      <th>1</th>\n",
       "      <td>0</td>\n",
       "      <td>1</td>\n",
       "      <td>5.0</td>\n",
       "      <td>838983525</td>\n",
       "    </tr>\n",
       "    <tr>\n",
       "      <th>2</th>\n",
       "      <td>0</td>\n",
       "      <td>2</td>\n",
       "      <td>5.0</td>\n",
       "      <td>838983392</td>\n",
       "    </tr>\n",
       "    <tr>\n",
       "      <th>3</th>\n",
       "      <td>0</td>\n",
       "      <td>3</td>\n",
       "      <td>5.0</td>\n",
       "      <td>838983421</td>\n",
       "    </tr>\n",
       "    <tr>\n",
       "      <th>4</th>\n",
       "      <td>0</td>\n",
       "      <td>4</td>\n",
       "      <td>5.0</td>\n",
       "      <td>838983392</td>\n",
       "    </tr>\n",
       "    <tr>\n",
       "      <th>5</th>\n",
       "      <td>0</td>\n",
       "      <td>5</td>\n",
       "      <td>5.0</td>\n",
       "      <td>838983392</td>\n",
       "    </tr>\n",
       "    <tr>\n",
       "      <th>6</th>\n",
       "      <td>0</td>\n",
       "      <td>6</td>\n",
       "      <td>5.0</td>\n",
       "      <td>838984474</td>\n",
       "    </tr>\n",
       "    <tr>\n",
       "      <th>7</th>\n",
       "      <td>0</td>\n",
       "      <td>7</td>\n",
       "      <td>5.0</td>\n",
       "      <td>838983653</td>\n",
       "    </tr>\n",
       "    <tr>\n",
       "      <th>8</th>\n",
       "      <td>0</td>\n",
       "      <td>8</td>\n",
       "      <td>5.0</td>\n",
       "      <td>838984885</td>\n",
       "    </tr>\n",
       "    <tr>\n",
       "      <th>9</th>\n",
       "      <td>0</td>\n",
       "      <td>9</td>\n",
       "      <td>5.0</td>\n",
       "      <td>838983707</td>\n",
       "    </tr>\n",
       "  </tbody>\n",
       "</table>\n",
       "</div>"
      ],
      "text/plain": [
       "   UserID  ItemID  Interaction  Timestamp\n",
       "0       0       0          5.0  838985046\n",
       "1       0       1          5.0  838983525\n",
       "2       0       2          5.0  838983392\n",
       "3       0       3          5.0  838983421\n",
       "4       0       4          5.0  838983392\n",
       "5       0       5          5.0  838983392\n",
       "6       0       6          5.0  838984474\n",
       "7       0       7          5.0  838983653\n",
       "8       0       8          5.0  838984885\n",
       "9       0       9          5.0  838983707"
      ]
     },
     "execution_count": 12,
     "metadata": {},
     "output_type": "execute_result"
    }
   ],
   "source": [
    "URM_all_dataframe.head(n=10)"
   ]
  },
  {
   "cell_type": "code",
   "execution_count": 13,
   "metadata": {},
   "outputs": [],
   "source": [
    "ICM_dataframe[\"UserID\"] = [user_original_ID_to_index_dict[user_original] for user_original in\n",
    "                                      ICM_dataframe[\"UserID\"].values]\n",
    "\n",
    "ICM_dataframe[\"ItemID\"] = [item_original_ID_to_index_dict[item_original] for item_original in \n",
    "                                      ICM_dataframe[\"ItemID\"].values]\n",
    "\n",
    "ICM_dataframe[\"FeatureID\"] = [feature_original_ID_to_index_dict[feature_original] for feature_original in \n",
    "                                      ICM_dataframe[\"FeatureID\"].values]"
   ]
  },
  {
   "cell_type": "code",
   "execution_count": 14,
   "metadata": {},
   "outputs": [
    {
     "data": {
      "text/html": [
       "<div>\n",
       "<style scoped>\n",
       "    .dataframe tbody tr th:only-of-type {\n",
       "        vertical-align: middle;\n",
       "    }\n",
       "\n",
       "    .dataframe tbody tr th {\n",
       "        vertical-align: top;\n",
       "    }\n",
       "\n",
       "    .dataframe thead th {\n",
       "        text-align: right;\n",
       "    }\n",
       "</style>\n",
       "<table border=\"1\" class=\"dataframe\">\n",
       "  <thead>\n",
       "    <tr style=\"text-align: right;\">\n",
       "      <th></th>\n",
       "      <th>UserID</th>\n",
       "      <th>ItemID</th>\n",
       "      <th>FeatureID</th>\n",
       "      <th>Timestamp</th>\n",
       "    </tr>\n",
       "  </thead>\n",
       "  <tbody>\n",
       "    <tr>\n",
       "      <th>0</th>\n",
       "      <td>69878</td>\n",
       "      <td>1926</td>\n",
       "      <td>0</td>\n",
       "      <td>1215184630</td>\n",
       "    </tr>\n",
       "    <tr>\n",
       "      <th>1</th>\n",
       "      <td>69879</td>\n",
       "      <td>1040</td>\n",
       "      <td>1</td>\n",
       "      <td>1188263867</td>\n",
       "    </tr>\n",
       "    <tr>\n",
       "      <th>2</th>\n",
       "      <td>69879</td>\n",
       "      <td>1040</td>\n",
       "      <td>2</td>\n",
       "      <td>1188263867</td>\n",
       "    </tr>\n",
       "    <tr>\n",
       "      <th>3</th>\n",
       "      <td>69879</td>\n",
       "      <td>1086</td>\n",
       "      <td>3</td>\n",
       "      <td>1188263835</td>\n",
       "    </tr>\n",
       "    <tr>\n",
       "      <th>4</th>\n",
       "      <td>69879</td>\n",
       "      <td>1086</td>\n",
       "      <td>4</td>\n",
       "      <td>1188263835</td>\n",
       "    </tr>\n",
       "    <tr>\n",
       "      <th>5</th>\n",
       "      <td>69879</td>\n",
       "      <td>1086</td>\n",
       "      <td>5</td>\n",
       "      <td>1188263835</td>\n",
       "    </tr>\n",
       "    <tr>\n",
       "      <th>6</th>\n",
       "      <td>69879</td>\n",
       "      <td>612</td>\n",
       "      <td>6</td>\n",
       "      <td>1188263755</td>\n",
       "    </tr>\n",
       "    <tr>\n",
       "      <th>7</th>\n",
       "      <td>69879</td>\n",
       "      <td>612</td>\n",
       "      <td>7</td>\n",
       "      <td>1188263756</td>\n",
       "    </tr>\n",
       "    <tr>\n",
       "      <th>8</th>\n",
       "      <td>69879</td>\n",
       "      <td>628</td>\n",
       "      <td>8</td>\n",
       "      <td>1188263880</td>\n",
       "    </tr>\n",
       "    <tr>\n",
       "      <th>9</th>\n",
       "      <td>69879</td>\n",
       "      <td>628</td>\n",
       "      <td>9</td>\n",
       "      <td>1188263880</td>\n",
       "    </tr>\n",
       "  </tbody>\n",
       "</table>\n",
       "</div>"
      ],
      "text/plain": [
       "   UserID  ItemID  FeatureID   Timestamp\n",
       "0   69878    1926          0  1215184630\n",
       "1   69879    1040          1  1188263867\n",
       "2   69879    1040          2  1188263867\n",
       "3   69879    1086          3  1188263835\n",
       "4   69879    1086          4  1188263835\n",
       "5   69879    1086          5  1188263835\n",
       "6   69879     612          6  1188263755\n",
       "7   69879     612          7  1188263756\n",
       "8   69879     628          8  1188263880\n",
       "9   69879     628          9  1188263880"
      ]
     },
     "execution_count": 14,
     "metadata": {},
     "output_type": "execute_result"
    }
   ],
   "source": [
    "ICM_dataframe.head(n=10)"
   ]
  },
  {
   "cell_type": "markdown",
   "metadata": {},
   "source": [
    "### When we create the matrices we need to make sure they have the same shape. As we have seen some items and users only appear in one of the two matrices and are missing in the other (if they have no tags or no interactions)"
   ]
  },
  {
   "cell_type": "code",
   "execution_count": 15,
   "metadata": {},
   "outputs": [],
   "source": [
    "import scipy.sparse as sps\n",
    "import numpy as np\n",
    "\n",
    "n_users = len(user_original_ID_to_index_dict)\n",
    "n_items = len(item_original_ID_to_index_dict)\n",
    "n_features = len(feature_original_ID_to_index_dict)"
   ]
  },
  {
   "cell_type": "code",
   "execution_count": 16,
   "metadata": {},
   "outputs": [
    {
     "data": {
      "text/plain": [
       "<71567x10681 sparse matrix of type '<class 'numpy.float64'>'\n",
       "\twith 10000054 stored elements in Compressed Sparse Row format>"
      ]
     },
     "execution_count": 16,
     "metadata": {},
     "output_type": "execute_result"
    }
   ],
   "source": [
    "URM_all = sps.csr_matrix((URM_all_dataframe[\"Interaction\"].values, \n",
    "                          (URM_all_dataframe[\"UserID\"].values, URM_all_dataframe[\"ItemID\"].values)),\n",
    "                        shape = (n_users, n_items))\n",
    "\n",
    "URM_all"
   ]
  },
  {
   "cell_type": "code",
   "execution_count": 17,
   "metadata": {},
   "outputs": [
    {
     "data": {
      "text/plain": [
       "<10681x16529 sparse matrix of type '<class 'numpy.float64'>'\n",
       "\twith 71155 stored elements in Compressed Sparse Row format>"
      ]
     },
     "execution_count": 17,
     "metadata": {},
     "output_type": "execute_result"
    }
   ],
   "source": [
    "ICM_all = sps.csr_matrix((np.ones(len(ICM_dataframe[\"ItemID\"].values)), \n",
    "                          (ICM_dataframe[\"ItemID\"].values, ICM_dataframe[\"FeatureID\"].values)),\n",
    "                        shape = (n_items, n_features))\n",
    "\n",
    "ICM_all.data = np.ones_like(ICM_all.data)\n",
    "\n",
    "ICM_all"
   ]
  },
  {
   "cell_type": "markdown",
   "metadata": {},
   "source": [
    "# Let's take a look at the ICM\n",
    "\n",
    "### We leverage CSR and CSC indptr data structure to compute the number of cells that have values for that row or column"
   ]
  },
  {
   "cell_type": "code",
   "execution_count": 18,
   "metadata": {},
   "outputs": [],
   "source": [
    "ICM_all = sps.csr_matrix(ICM_all)\n",
    "features_per_item = np.ediff1d(ICM_all.indptr)\n",
    "\n",
    "ICM_all = sps.csc_matrix(ICM_all)\n",
    "items_per_feature = np.ediff1d(ICM_all.indptr)\n",
    "\n",
    "ICM_all = sps.csr_matrix(ICM_all)"
   ]
  },
  {
   "cell_type": "code",
   "execution_count": 19,
   "metadata": {},
   "outputs": [
    {
     "name": "stdout",
     "output_type": "stream",
     "text": [
      "(10681,)\n",
      "(16529,)\n"
     ]
    }
   ],
   "source": [
    "print(features_per_item.shape)\n",
    "print(items_per_feature.shape)"
   ]
  },
  {
   "cell_type": "code",
   "execution_count": 20,
   "metadata": {},
   "outputs": [],
   "source": [
    "features_per_item = np.sort(features_per_item)\n",
    "items_per_feature = np.sort(items_per_feature)"
   ]
  },
  {
   "cell_type": "code",
   "execution_count": 21,
   "metadata": {},
   "outputs": [
    {
     "data": {
      "image/png": "[encoded data removed]",
      "text/plain": [
       "<Figure size 640x480 with 1 Axes>"
      ]
     },
     "metadata": {},
     "output_type": "display_data"
    }
   ],
   "source": [
    "import matplotlib.pyplot as pyplot\n",
    "%matplotlib inline  \n",
    "\n",
    "pyplot.plot(features_per_item, 'ro')\n",
    "pyplot.ylabel('Num features ')\n",
    "pyplot.xlabel('Sorted items')\n",
    "pyplot.show()"
   ]
  },
  {
   "cell_type": "code",
   "execution_count": 22,
   "metadata": {},
   "outputs": [
    {
     "data": {
      "image/png": "[encoded data removed]",
      "text/plain": [
       "<Figure size 640x480 with 1 Axes>"
      ]
     },
     "metadata": {},
     "output_type": "display_data"
    }
   ],
   "source": [
    "pyplot.plot(items_per_feature, 'ro')\n",
    "pyplot.ylabel('Num items ')\n",
    "pyplot.xlabel('Sorted features')\n",
    "pyplot.show()"
   ]
  },
  {
   "cell_type": "markdown",
   "metadata": {},
   "source": [
    "# We can now build the recommender algorithm, but first we need the train/test split and the evaluation function:"
   ]
  },
  {
   "cell_type": "code",
   "execution_count": 23,
   "metadata": {},
   "outputs": [
    {
     "name": "stdout",
     "output_type": "stream",
     "text": [
      "Warning: 1689 (2.36 %) of 71567 users have no train items\n",
      "Warning: 1782 (2.49 %) of 71567 users have no sampled items\n",
      "Warning: 1689 (2.36 %) of 71567 users have no train items\n",
      "Warning: 1926 (2.69 %) of 71567 users have no sampled items\n",
      "EvaluatorHoldout: Ignoring 1926 ( 2.7%) Users that have less than 1 test interactions\n",
      "EvaluatorHoldout: Ignoring 1782 ( 2.5%) Users that have less than 1 test interactions\n"
     ]
    }
   ],
   "source": [
    "from Evaluation.Evaluator import EvaluatorHoldout\n",
    "from Data_manager.split_functions.split_train_validation_random_holdout import split_train_in_two_percentage_global_sample\n",
    "\n",
    "URM_train, URM_test = split_train_in_two_percentage_global_sample(URM_all, train_percentage = 0.80)\n",
    "URM_train, URM_validation = split_train_in_two_percentage_global_sample(URM_train, train_percentage = 0.80)\n",
    "\n",
    "evaluator_validation = EvaluatorHoldout(URM_validation, cutoff_list=[10])\n",
    "evaluator_test = EvaluatorHoldout(URM_test, cutoff_list=[10])\n"
   ]
  },
  {
   "cell_type": "markdown",
   "metadata": {},
   "source": [
    "### We need to define Cosine similarity... Let's look at the attached source code"
   ]
  },
  {
   "cell_type": "markdown",
   "metadata": {},
   "source": [
    "### See also a [list of commonly used KNN similarity heuristics](https://github.com/MaurizioFD/RecSys_Course_2018/blob/master/slides/List_of_KNN_similarity_heuristics.pdf)"
   ]
  },
  {
   "cell_type": "markdown",
   "metadata": {},
   "source": [
    "## A KNN is built with the following steps:\n",
    "* Compute the similarity of an item with all others\n",
    "* Select the k-highest similarities"
   ]
  },
  {
   "cell_type": "code",
   "execution_count": 24,
   "metadata": {},
   "outputs": [],
   "source": [
    "item_id = 80\n",
    "shrink = 10"
   ]
  },
  {
   "cell_type": "markdown",
   "metadata": {},
   "source": [
    "The numerator is the dot product of the item features times the whole ICM data transposed"
   ]
  },
  {
   "cell_type": "code",
   "execution_count": 25,
   "metadata": {},
   "outputs": [
    {
     "data": {
      "text/plain": [
       "array([2., 0., 0., ..., 0., 1., 0.])"
      ]
     },
     "execution_count": 25,
     "metadata": {},
     "output_type": "execute_result"
    }
   ],
   "source": [
    "numerator_vector = ICM_all[item_id].dot(ICM_all.T).toarray().ravel()\n",
    "numerator_vector"
   ]
  },
  {
   "cell_type": "code",
   "execution_count": 26,
   "metadata": {},
   "outputs": [
    {
     "data": {
      "text/plain": [
       "array([1.73205081, 4.35889894, 5.29150262, ..., 1.        , 1.41421356,\n",
       "       1.41421356])"
      ]
     },
     "execution_count": 26,
     "metadata": {},
     "output_type": "execute_result"
    }
   ],
   "source": [
    "item_norms = np.sqrt(np.array(ICM_all.T.power(2).sum(axis=0))).ravel()\n",
    "item_norms"
   ]
  },
  {
   "cell_type": "markdown",
   "metadata": {},
   "source": [
    "The denominator will be the product of norms plus the srink term and a small value which prevents the denominator to be zero (only for non-negative data)"
   ]
  },
  {
   "cell_type": "code",
   "execution_count": 27,
   "metadata": {},
   "outputs": [
    {
     "data": {
      "text/plain": [
       "array([15.47722658, 23.78404975, 26.73320153, ..., 13.16227866,\n",
       "       14.47213695, 14.47213695])"
      ]
     },
     "execution_count": 27,
     "metadata": {},
     "output_type": "execute_result"
    }
   ],
   "source": [
    "denominator_vector = item_norms[item_id] * item_norms + shrink + 1e-6\n",
    "denominator_vector"
   ]
  },
  {
   "cell_type": "code",
   "execution_count": 28,
   "metadata": {},
   "outputs": [],
   "source": [
    "similarity_vector = numerator_vector/denominator_vector"
   ]
  },
  {
   "cell_type": "markdown",
   "metadata": {},
   "source": [
    "Let's sort the similarity from the highest to the lowest"
   ]
  },
  {
   "cell_type": "code",
   "execution_count": 29,
   "metadata": {},
   "outputs": [
    {
     "data": {
      "text/plain": [
       "array([   80,  3542,     0, ...,  3938,  3931, 10680], dtype=int64)"
      ]
     },
     "execution_count": 29,
     "metadata": {},
     "output_type": "execute_result"
    }
   ],
   "source": [
    "sorted_item_indices = np.argsort(-similarity_vector)\n",
    "sorted_item_indices"
   ]
  },
  {
   "cell_type": "code",
   "execution_count": 30,
   "metadata": {},
   "outputs": [
    {
     "data": {
      "image/png": "[encoded data removed]",
      "text/plain": [
       "<Figure size 640x480 with 1 Axes>"
      ]
     },
     "metadata": {},
     "output_type": "display_data"
    }
   ],
   "source": [
    "pyplot.plot(similarity_vector[sorted_item_indices], 'ro')\n",
    "pyplot.ylabel('Similarity')\n",
    "pyplot.xlabel('Item')\n",
    "pyplot.show()"
   ]
  },
  {
   "cell_type": "markdown",
   "metadata": {},
   "source": [
    "Now we select the k most similar items"
   ]
  },
  {
   "cell_type": "code",
   "execution_count": 31,
   "metadata": {},
   "outputs": [],
   "source": [
    "k = 100"
   ]
  },
  {
   "cell_type": "code",
   "execution_count": 32,
   "metadata": {},
   "outputs": [
    {
     "data": {
      "image/png": "[encoded data removed]",
      "text/plain": [
       "<Figure size 640x480 with 1 Axes>"
      ]
     },
     "metadata": {},
     "output_type": "display_data"
    }
   ],
   "source": [
    "pyplot.plot(similarity_vector[sorted_item_indices[0:k]], 'ro')\n",
    "pyplot.ylabel('Similarity')\n",
    "pyplot.xlabel('Item')\n",
    "pyplot.show()"
   ]
  },
  {
   "cell_type": "markdown",
   "metadata": {},
   "source": [
    "The operation is performed for all items.\n",
    "A simple strategy to perform it efficiently is to vectorize the most computationally intensive part, the dot product, on a group of items. The speedup can be of a factor of 10-100.\n",
    "This strategy is limited by the fact that the result of the dot product is a huge item-item dense similarity which likely does not fit in memory."
   ]
  },
  {
   "cell_type": "code",
   "execution_count": 33,
   "metadata": {},
   "outputs": [],
   "source": [
    "import traceback\n",
    "\n",
    "try:\n",
    "    numerator_matrix = ICM_all.dot(ICM_all.T).toarray()\n",
    "    \n",
    "except Exception as e:\n",
    "    traceback.print_exc()\n",
    "    "
   ]
  },
  {
   "cell_type": "markdown",
   "metadata": {},
   "source": [
    "The solution is:\n",
    "* Compute the numerator a block of items at a time leveraging vectorization while not running out of memory\n",
    "* Extract the k-nn on those items\n",
    "* Built incrementally the sparse similarity matrix"
   ]
  },
  {
   "cell_type": "code",
   "execution_count": 34,
   "metadata": {},
   "outputs": [
    {
     "data": {
      "text/plain": [
       "(100, 10681)"
      ]
     },
     "execution_count": 34,
     "metadata": {},
     "output_type": "execute_result"
    }
   ],
   "source": [
    "block_size = 100\n",
    "\n",
    "numerator_block = ICM_all[0:block_size].dot(ICM_all.T).toarray()\n",
    "numerator_block.shape"
   ]
  },
  {
   "cell_type": "markdown",
   "metadata": {},
   "source": [
    "Let's compare the speed to compute the dot product on the whole similarity of the two strategies"
   ]
  },
  {
   "cell_type": "code",
   "execution_count": 35,
   "metadata": {},
   "outputs": [
    {
     "name": "stdout",
     "output_type": "stream",
     "text": [
      "Computing the similarity one item at a time runs at 1311.34 items/sec\n"
     ]
    }
   ],
   "source": [
    "import time\n",
    "\n",
    "n_items = ICM_all.shape[0]\n",
    "\n",
    "start_time = time.time()\n",
    "\n",
    "for n_item in range(n_items):\n",
    "    numerator_vector = ICM_all[item_id].dot(ICM_all.T).toarray().ravel()\n",
    "    \n",
    "end_time = time.time()\n",
    "\n",
    "print(\"Computing the similarity one item at a time runs at {:.2f} items/sec\".format(n_items/(end_time-start_time)))\n",
    "\n"
   ]
  },
  {
   "cell_type": "code",
   "execution_count": 36,
   "metadata": {},
   "outputs": [
    {
     "name": "stdout",
     "output_type": "stream",
     "text": [
      "Computing the similarity in blocks of 100 items at a time runs at 27175.14 items/sec\n"
     ]
    }
   ],
   "source": [
    "n_items = ICM_all.shape[0]\n",
    "\n",
    "start_time = time.time()\n",
    "\n",
    "block_size = 100\n",
    "blocks_start_positions = range(0, n_items, block_size)\n",
    "\n",
    "for start_pos in blocks_start_positions:\n",
    "    end_pos = min(start_pos + block_size, n_items)\n",
    "    \n",
    "    numerator_block = ICM_all[start_pos:end_pos].dot(ICM_all.T).toarray()\n",
    "    \n",
    "end_time = time.time()\n",
    "\n",
    "print(\"Computing the similarity in blocks of 100 items at a time runs at {:.2f} items/sec\".format(n_items/(end_time-start_time)))\n",
    "\n"
   ]
  },
  {
   "cell_type": "markdown",
   "metadata": {},
   "source": [
    "### In this case the vectorized implementation runs >20 times faster!\n",
    "\n",
    "#### Usually most of the speed gain comes with blocks of 100 or so items, depending on the system. Much higher than that tends to not be beneficial while requiring increasingly more memory."
   ]
  },
  {
   "cell_type": "markdown",
   "metadata": {},
   "source": [
    "Now an example of something you should *never* do, nested loops to compute the similarity of each item without vectorization"
   ]
  },
  {
   "cell_type": "code",
   "execution_count": 37,
   "metadata": {},
   "outputs": [
    {
     "name": "stdout",
     "output_type": "stream",
     "text": [
      "Computing the similarity with nested loops runs at 33.21 items/sec\n"
     ]
    }
   ],
   "source": [
    "n_items = 100\n",
    "\n",
    "start_time = time.time()\n",
    "\n",
    "for n_item in range(n_items):\n",
    "    for second_item in range(n_items):\n",
    "        numerator_vector = ICM_all[item_id].dot(ICM_all[second_item].T)\n",
    "    \n",
    "end_time = time.time()\n",
    "\n",
    "print(\"Computing the similarity with nested loops runs at {:.2f} items/sec\".format(n_items/(end_time-start_time)))\n",
    "\n"
   ]
  },
  {
   "cell_type": "markdown",
   "metadata": {},
   "source": [
    "You see how incredibly slow nested loops are compared to a well vectorized implementation"
   ]
  },
  {
   "cell_type": "markdown",
   "metadata": {},
   "source": [
    "#### Let's now compute the entire similarity matrix and use it to generate recommendations"
   ]
  },
  {
   "cell_type": "code",
   "execution_count": 38,
   "metadata": {},
   "outputs": [
    {
     "name": "stdout",
     "output_type": "stream",
     "text": [
      "Similarity column 10681 (100.0%), 4359.74 column/sec. Elapsed time 2.45 sec\n"
     ]
    },
    {
     "data": {
      "text/plain": [
       "<10681x10681 sparse matrix of type '<class 'numpy.float32'>'\n",
       "\twith 624111 stored elements in Compressed Sparse Row format>"
      ]
     },
     "execution_count": 38,
     "metadata": {},
     "output_type": "execute_result"
    }
   ],
   "source": [
    "from Recommenders.Similarity.Compute_Similarity_Python import Compute_Similarity_Python\n",
    "\n",
    "similarity_object = Compute_Similarity_Python(ICM_all.T, shrink=0.0, \n",
    "                                          topK=100,\n",
    "                                          normalize=True, \n",
    "                                          similarity = \"cosine\")\n",
    "\n",
    "W_sparse = similarity_object.compute_similarity()\n",
    "W_sparse"
   ]
  },
  {
   "cell_type": "code",
   "execution_count": 39,
   "metadata": {},
   "outputs": [
    {
     "data": {
      "text/plain": [
       "<1x10681 sparse matrix of type '<class 'numpy.float64'>'\n",
       "\twith 5523 stored elements in Compressed Sparse Row format>"
      ]
     },
     "execution_count": 39,
     "metadata": {},
     "output_type": "execute_result"
    }
   ],
   "source": [
    "user_id = 200\n",
    "user_profile = URM_train[user_id]\n",
    "\n",
    "scores = user_profile.dot(W_sparse)\n",
    "scores"
   ]
  },
  {
   "cell_type": "code",
   "execution_count": 40,
   "metadata": {},
   "outputs": [
    {
     "data": {
      "text/plain": [
       "array([3.77329066, 4.59290504, 7.53792299, ..., 0.        , 2.99999857,\n",
       "       0.        ])"
      ]
     },
     "execution_count": 40,
     "metadata": {},
     "output_type": "execute_result"
    }
   ],
   "source": [
    "scores = scores.toarray().ravel()\n",
    "scores"
   ]
  },
  {
   "cell_type": "markdown",
   "metadata": {},
   "source": [
    "We can then sort the scores to recommend the highest ranked ones"
   ]
  },
  {
   "cell_type": "code",
   "execution_count": 41,
   "metadata": {},
   "outputs": [
    {
     "data": {
      "text/plain": [
       "array([2643, 2644,  436,  235,  177, 3589, 5058, 3562, 3584, 8533],\n",
       "      dtype=int64)"
      ]
     },
     "execution_count": 41,
     "metadata": {},
     "output_type": "execute_result"
    }
   ],
   "source": [
    "ranking = scores.argsort()[::-1][0:10]\n",
    "ranking"
   ]
  },
  {
   "cell_type": "code",
   "execution_count": 42,
   "metadata": {},
   "outputs": [
    {
     "data": {
      "text/plain": [
       "array([25.04195338, 20.42638889, 19.85643119, 19.59445615, 19.41101268,\n",
       "       19.29249585, 19.29249585, 19.29249585, 19.29249585, 19.29249585])"
      ]
     },
     "execution_count": 42,
     "metadata": {},
     "output_type": "execute_result"
    }
   ],
   "source": [
    "scores[ranking]"
   ]
  },
  {
   "cell_type": "markdown",
   "metadata": {},
   "source": [
    "## Test our CBF recommender:\n",
    "\n",
    "#### We put everything in a Python class with a standard interface"
   ]
  },
  {
   "cell_type": "code",
   "execution_count": 43,
   "metadata": {},
   "outputs": [],
   "source": [
    "from Recommenders.Similarity.Compute_Similarity_Python import Compute_Similarity_Python\n",
    "\n",
    "class ItemKNNCBFRecommender(object):\n",
    "    \n",
    "    def __init__(self, URM, ICM):\n",
    "        self.URM = URM\n",
    "        self.ICM = ICM\n",
    "        \n",
    "            \n",
    "    def fit(self, topK=50, shrink=100, normalize = True, similarity = \"cosine\"):\n",
    "        \n",
    "        similarity_object = Compute_Similarity_Python(self.ICM.T, shrink=shrink, \n",
    "                                                  topK=topK, normalize=normalize, \n",
    "                                                  similarity = similarity)\n",
    "        \n",
    "        self.W_sparse = similarity_object.compute_similarity()\n",
    "\n",
    "        \n",
    "    def recommend(self, user_id, at=None, exclude_seen=True):\n",
    "        # compute the scores using the dot product\n",
    "        user_profile = self.URM[user_id]\n",
    "        scores = user_profile.dot(self.W_sparse).toarray().ravel()\n",
    "\n",
    "        if exclude_seen:\n",
    "            scores = self.filter_seen(user_id, scores)\n",
    "\n",
    "        # rank items\n",
    "        ranking = scores.argsort()[::-1]\n",
    "            \n",
    "        return ranking[:at]\n",
    "    \n",
    "    \n",
    "    def filter_seen(self, user_id, scores):\n",
    "\n",
    "        start_pos = self.URM.indptr[user_id]\n",
    "        end_pos = self.URM.indptr[user_id+1]\n",
    "\n",
    "        user_profile = self.URM.indices[start_pos:end_pos]\n",
    "        \n",
    "        scores[user_profile] = -np.inf\n",
    "\n",
    "        return scores"
   ]
  },
  {
   "cell_type": "code",
   "execution_count": 44,
   "metadata": {},
   "outputs": [
    {
     "name": "stdout",
     "output_type": "stream",
     "text": [
      "Similarity column 10681 (100.0%), 4818.76 column/sec. Elapsed time 2.22 sec\n"
     ]
    }
   ],
   "source": [
    "recommender = ItemKNNCBFRecommender(URM_train, ICM_all)\n",
    "recommender.fit(shrink=0.0, topK=50)"
   ]
  },
  {
   "cell_type": "code",
   "execution_count": 45,
   "metadata": {},
   "outputs": [
    {
     "name": "stdout",
     "output_type": "stream",
     "text": [
      "[  18 4759  554 1427  851]\n",
      "[177 196  24 401 822]\n",
      "[5664 5660   60  798 2813]\n",
      "[1723  441 1331 2088 5106]\n",
      "[1184 2146  148 1122  220]\n",
      "[ 37  24 133 235  19]\n",
      "[ 220  164  249  149 1441]\n",
      "[1234  968 2065 2093 2952]\n",
      "[585 616 788 411 170]\n",
      "[1310   16   57   34  797]\n"
     ]
    }
   ],
   "source": [
    "for user_id in range(10):\n",
    "    print(recommender.recommend(user_id, at=5))"
   ]
  },
  {
   "cell_type": "markdown",
   "metadata": {},
   "source": [
    "#### Let's talk about speed\n",
    "\n",
    "#### Time to compute recommendations for a fixed group of users"
   ]
  },
  {
   "cell_type": "code",
   "execution_count": 46,
   "metadata": {},
   "outputs": [
    {
     "name": "stdout",
     "output_type": "stream",
     "text": [
      "Reasonable implementation speed is 976.11 usr/sec\n"
     ]
    }
   ],
   "source": [
    "import time\n",
    "\n",
    "n_users_to_test = 1000\n",
    "\n",
    "start_time = time.time()\n",
    "\n",
    "for user_id in range(n_users_to_test):\n",
    "    recommender.recommend(user_id, at=5)\n",
    "    \n",
    "end_time = time.time()\n",
    "\n",
    "print(\"Reasonable implementation speed is {:.2f} usr/sec\".format(n_users_to_test/(end_time-start_time)))\n"
   ]
  },
  {
   "cell_type": "markdown",
   "metadata": {},
   "source": [
    "### Let's add a common mistake.... a CSC URM"
   ]
  },
  {
   "cell_type": "code",
   "execution_count": 47,
   "metadata": {},
   "outputs": [
    {
     "name": "stdout",
     "output_type": "stream",
     "text": [
      "Similarity column 10681 (100.0%), 4754.31 column/sec. Elapsed time 2.25 sec\n"
     ]
    }
   ],
   "source": [
    "URM_train_csc = URM_train.tocsc()\n",
    "\n",
    "recommender = ItemKNNCBFRecommender(URM_train_csc, ICM_all)\n",
    "recommender.fit(shrink=0.0, topK=50)"
   ]
  },
  {
   "cell_type": "code",
   "execution_count": 48,
   "metadata": {},
   "outputs": [
    {
     "name": "stdout",
     "output_type": "stream",
     "text": [
      "Exception index 10683 is out of bounds for axis 0 with size 10681\n"
     ]
    },
    {
     "name": "stderr",
     "output_type": "stream",
     "text": [
      "Traceback (most recent call last):\n",
      "  File \"C:\\Users\\PC\\AppData\\Local\\Temp\\ipykernel_50820\\1484869668.py\", line 10, in <module>\n",
      "    recommender.recommend(user_id, at=5)\n",
      "  File \"C:\\Users\\PC\\AppData\\Local\\Temp\\ipykernel_50820\\4145966258.py\", line 25, in recommend\n",
      "    scores = self.filter_seen(user_id, scores)\n",
      "  File \"C:\\Users\\PC\\AppData\\Local\\Temp\\ipykernel_50820\\4145966258.py\", line 40, in filter_seen\n",
      "    scores[user_profile] = -np.inf\n",
      "IndexError: index 10683 is out of bounds for axis 0 with size 10681\n"
     ]
    }
   ],
   "source": [
    "import time, traceback\n",
    "\n",
    "try:\n",
    "\n",
    "    n_users_to_test = 1000\n",
    "\n",
    "    start_time = time.time()\n",
    "\n",
    "    for user_id in range(n_users_to_test):\n",
    "        recommender.recommend(user_id, at=5)\n",
    "\n",
    "    end_time = time.time()\n",
    "\n",
    "    print(\"Wrong implementation speed is {:.2f} usr/sec\".format(n_users_to_test/(end_time-start_time)))\n",
    "\n",
    "    \n",
    "except Exception as e:\n",
    "        \n",
    "    print(\"Exception {}\".format(str(e)))\n",
    "    traceback.print_exc()\n"
   ]
  },
  {
   "cell_type": "markdown",
   "metadata": {},
   "source": [
    "## Hyperparameter tuning\n",
    "\n",
    "#### Once we have built our model we can play with its hyperparameters\n",
    "* Number of neighbors\n",
    "* Shrinkage\n",
    "* Similarity type"
   ]
  },
  {
   "cell_type": "markdown",
   "metadata": {},
   "source": [
    "#### Number of neighbors"
   ]
  },
  {
   "cell_type": "code",
   "execution_count": 49,
   "metadata": {},
   "outputs": [
    {
     "name": "stdout",
     "output_type": "stream",
     "text": [
      "ItemKNNCBFRecommender: URM Detected 1689 ( 2.4%) users with no interactions.\n",
      "ItemKNNCBFRecommender: URM Detected 75 ( 0.7%) items with no interactions.\n",
      "ItemKNNCBFRecommender: ICM Detected 3080 (28.8%) items with no features.\n",
      "Unable to load Cython Compute_Similarity, reverting to Python\n",
      "Similarity column 10681 (100.0%), 5221.12 column/sec. Elapsed time 2.05 sec\n",
      "EvaluatorHoldout: Processed 69785 (100.0%) in 33.94 sec. Users per second: 2056\n",
      "ItemKNNCBFRecommender: URM Detected 1689 ( 2.4%) users with no interactions.\n",
      "ItemKNNCBFRecommender: URM Detected 75 ( 0.7%) items with no interactions.\n",
      "ItemKNNCBFRecommender: ICM Detected 3080 (28.8%) items with no features.\n",
      "Unable to load Cython Compute_Similarity, reverting to Python\n",
      "Similarity column 10681 (100.0%), 4455.97 column/sec. Elapsed time 2.40 sec\n",
      "EvaluatorHoldout: Processed 69785 (100.0%) in 37.98 sec. Users per second: 1837\n",
      "ItemKNNCBFRecommender: URM Detected 1689 ( 2.4%) users with no interactions.\n",
      "ItemKNNCBFRecommender: URM Detected 75 ( 0.7%) items with no interactions.\n",
      "ItemKNNCBFRecommender: ICM Detected 3080 (28.8%) items with no features.\n",
      "Unable to load Cython Compute_Similarity, reverting to Python\n",
      "Similarity column 10681 (100.0%), 4271.11 column/sec. Elapsed time 2.50 sec\n",
      "EvaluatorHoldout: Processed 69785 (100.0%) in 41.80 sec. Users per second: 1670\n",
      "ItemKNNCBFRecommender: URM Detected 1689 ( 2.4%) users with no interactions.\n",
      "ItemKNNCBFRecommender: URM Detected 75 ( 0.7%) items with no interactions.\n",
      "ItemKNNCBFRecommender: ICM Detected 3080 (28.8%) items with no features.\n",
      "Unable to load Cython Compute_Similarity, reverting to Python\n",
      "Similarity column 10681 (100.0%), 3463.41 column/sec. Elapsed time 3.08 sec\n",
      "EvaluatorHoldout: Processed 69785 (100.0%) in 44.55 sec. Users per second: 1567\n",
      "ItemKNNCBFRecommender: URM Detected 1689 ( 2.4%) users with no interactions.\n",
      "ItemKNNCBFRecommender: URM Detected 75 ( 0.7%) items with no interactions.\n",
      "ItemKNNCBFRecommender: ICM Detected 3080 (28.8%) items with no features.\n",
      "Unable to load Cython Compute_Similarity, reverting to Python\n",
      "Similarity column 10681 (100.0%), 2574.25 column/sec. Elapsed time 4.15 sec\n",
      "EvaluatorHoldout: Processed 69785 (100.0%) in 52.51 sec. Users per second: 1329\n"
     ]
    }
   ],
   "source": [
    "from Recommenders.KNN.ItemKNNCBFRecommender import ItemKNNCBFRecommender\n",
    "\n",
    "x_tick = [10, 50, 100, 200, 500]\n",
    "MAP_per_k = []\n",
    "\n",
    "for topK in x_tick:\n",
    "    \n",
    "    recommender = ItemKNNCBFRecommender(URM_train, ICM_all)\n",
    "    recommender.fit(shrink=0.0, topK=topK)\n",
    "    \n",
    "    result_df, _ = evaluator_test.evaluateRecommender(recommender)\n",
    "    \n",
    "    MAP_per_k.append(result_df.loc[10][\"MAP\"])"
   ]
  },
  {
   "cell_type": "code",
   "execution_count": 50,
   "metadata": {},
   "outputs": [
    {
     "data": {
      "image/png": "[encoded data removed]",
      "text/plain": [
       "<Figure size 640x480 with 1 Axes>"
      ]
     },
     "metadata": {},
     "output_type": "display_data"
    }
   ],
   "source": [
    "pyplot.plot(x_tick, MAP_per_k)\n",
    "pyplot.ylabel('MAP')\n",
    "pyplot.xlabel('TopK')\n",
    "pyplot.show()"
   ]
  },
  {
   "cell_type": "markdown",
   "metadata": {},
   "source": [
    "#### On this dataset the number of neighbors has a limited impact on MAP. Fine-tuning around the best values is needed.\n",
    "\n",
    "#### Different datasets will behave in different ways."
   ]
  },
  {
   "cell_type": "markdown",
   "metadata": {},
   "source": [
    "### Shrinkage"
   ]
  },
  {
   "cell_type": "code",
   "execution_count": 51,
   "metadata": {},
   "outputs": [
    {
     "name": "stdout",
     "output_type": "stream",
     "text": [
      "ItemKNNCBFRecommender: URM Detected 1689 ( 2.4%) users with no interactions.\n",
      "ItemKNNCBFRecommender: URM Detected 75 ( 0.7%) items with no interactions.\n",
      "ItemKNNCBFRecommender: ICM Detected 3080 (28.8%) items with no features.\n",
      "Unable to load Cython Compute_Similarity, reverting to Python\n",
      "Similarity column 10681 (100.0%), 4301.91 column/sec. Elapsed time 2.48 sec\n",
      "EvaluatorHoldout: Processed 69785 (100.0%) in 41.28 sec. Users per second: 1690\n",
      "ItemKNNCBFRecommender: URM Detected 1689 ( 2.4%) users with no interactions.\n",
      "ItemKNNCBFRecommender: URM Detected 75 ( 0.7%) items with no interactions.\n",
      "ItemKNNCBFRecommender: ICM Detected 3080 (28.8%) items with no features.\n",
      "Unable to load Cython Compute_Similarity, reverting to Python\n",
      "Similarity column 10681 (100.0%), 4043.45 column/sec. Elapsed time 2.64 sec\n",
      "EvaluatorHoldout: Processed 69785 (100.0%) in 40.71 sec. Users per second: 1714\n",
      "ItemKNNCBFRecommender: URM Detected 1689 ( 2.4%) users with no interactions.\n",
      "ItemKNNCBFRecommender: URM Detected 75 ( 0.7%) items with no interactions.\n",
      "ItemKNNCBFRecommender: ICM Detected 3080 (28.8%) items with no features.\n",
      "Unable to load Cython Compute_Similarity, reverting to Python\n",
      "Similarity column 10681 (100.0%), 7785.53 column/sec. Elapsed time 1.37 sec\n",
      "EvaluatorHoldout: Processed 69785 (100.0%) in 28.35 sec. Users per second: 2462\n",
      "ItemKNNCBFRecommender: URM Detected 1689 ( 2.4%) users with no interactions.\n",
      "ItemKNNCBFRecommender: URM Detected 75 ( 0.7%) items with no interactions.\n",
      "ItemKNNCBFRecommender: ICM Detected 3080 (28.8%) items with no features.\n",
      "Unable to load Cython Compute_Similarity, reverting to Python\n",
      "Similarity column 10681 (100.0%), 8026.68 column/sec. Elapsed time 1.33 sec\n",
      "EvaluatorHoldout: Processed 69785 (100.0%) in 22.33 sec. Users per second: 3125\n",
      "ItemKNNCBFRecommender: URM Detected 1689 ( 2.4%) users with no interactions.\n",
      "ItemKNNCBFRecommender: URM Detected 75 ( 0.7%) items with no interactions.\n",
      "ItemKNNCBFRecommender: ICM Detected 3080 (28.8%) items with no features.\n",
      "Unable to load Cython Compute_Similarity, reverting to Python\n",
      "Similarity column 10681 (100.0%), 4784.08 column/sec. Elapsed time 2.23 sec\n",
      "EvaluatorHoldout: Processed 69785 (100.0%) in 39.15 sec. Users per second: 1783\n",
      "ItemKNNCBFRecommender: URM Detected 1689 ( 2.4%) users with no interactions.\n",
      "ItemKNNCBFRecommender: URM Detected 75 ( 0.7%) items with no interactions.\n",
      "ItemKNNCBFRecommender: ICM Detected 3080 (28.8%) items with no features.\n",
      "Unable to load Cython Compute_Similarity, reverting to Python\n",
      "Similarity column 10681 (100.0%), 4231.20 column/sec. Elapsed time 2.52 sec\n",
      "EvaluatorHoldout: Processed 69785 (100.0%) in 27.38 sec. Users per second: 2549\n"
     ]
    }
   ],
   "source": [
    "x_tick = [0, 10, 50, 100, 200, 500]\n",
    "MAP_per_shrinkage = []\n",
    "\n",
    "for shrink in x_tick:\n",
    "    \n",
    "    recommender = ItemKNNCBFRecommender(URM_train, ICM_all)\n",
    "    recommender.fit(shrink=shrink, topK=100)\n",
    "    \n",
    "    result_df, _ = evaluator_test.evaluateRecommender(recommender)\n",
    "    \n",
    "    MAP_per_shrinkage.append(result_df.loc[10][\"MAP\"])"
   ]
  },
  {
   "cell_type": "code",
   "execution_count": 52,
   "metadata": {},
   "outputs": [
    {
     "data": {
      "image/png": "[encoded data removed]",
      "text/plain": [
       "<Figure size 640x480 with 1 Axes>"
      ]
     },
     "metadata": {},
     "output_type": "display_data"
    }
   ],
   "source": [
    "pyplot.plot(x_tick, MAP_per_shrinkage)\n",
    "pyplot.ylabel('MAP')\n",
    "pyplot.xlabel('Shrinkage')\n",
    "pyplot.show()"
   ]
  },
  {
   "cell_type": "markdown",
   "metadata": {},
   "source": [
    "#### The shrinkage value (i.e. support) have a much stronger impact. Combine a parameter search with the two to ensure maximum recommendation quality\n",
    "\n",
    "## Be careful, overfitting!\n",
    "\n",
    "#### While a thorough parameter tuning might result in significantly higher MAP on your validation split, it could have only marginally better or even worse MAP on the test set"
   ]
  },
  {
   "cell_type": "markdown",
   "metadata": {},
   "source": [
    "# Feature weighting"
   ]
  },
  {
   "cell_type": "markdown",
   "metadata": {
    "collapsed": true
   },
   "source": [
    "# IDF"
   ]
  },
  {
   "cell_type": "markdown",
   "metadata": {},
   "source": [
    "![title](https://www.link-assistant.com/images/news/tf-idf-tool-for-seo/screen-03.png)"
   ]
  },
  {
   "cell_type": "code",
   "execution_count": 53,
   "metadata": {},
   "outputs": [
    {
     "name": "stdout",
     "output_type": "stream",
     "text": [
      "(10681, 16529)\n",
      "(16529,)\n"
     ]
    }
   ],
   "source": [
    "num_tot_items = ICM_all.shape[0]\n",
    "\n",
    "# let's count how many items have a certain feature\n",
    "items_per_feature = np.ediff1d(sps.csc_matrix(ICM_all).indptr)\n",
    "\n",
    "IDF = np.log(num_tot_items / items_per_feature)\n",
    "\n",
    "print(ICM_all.shape)\n",
    "print(IDF.shape)"
   ]
  },
  {
   "cell_type": "code",
   "execution_count": 54,
   "metadata": {},
   "outputs": [
    {
     "data": {
      "text/plain": [
       "array([  1,   1,   1, ..., 404, 492, 640], dtype=int32)"
      ]
     },
     "execution_count": 54,
     "metadata": {},
     "output_type": "execute_result"
    }
   ],
   "source": [
    "np.sort(items_per_feature)"
   ]
  },
  {
   "cell_type": "code",
   "execution_count": 55,
   "metadata": {},
   "outputs": [
    {
     "data": {
      "text/plain": [
       "array([2.81475356, 3.07774302, 3.27480686, ..., 9.27622174, 9.27622174,\n",
       "       9.27622174])"
      ]
     },
     "execution_count": 55,
     "metadata": {},
     "output_type": "execute_result"
    }
   ],
   "source": [
    "np.sort(IDF)"
   ]
  },
  {
   "cell_type": "code",
   "execution_count": 56,
   "metadata": {},
   "outputs": [
    {
     "data": {
      "image/png": "[encoded data removed]",
      "text/plain": [
       "<Figure size 640x480 with 1 Axes>"
      ]
     },
     "metadata": {},
     "output_type": "display_data"
    }
   ],
   "source": [
    "pyplot.plot(np.sort(IDF))\n",
    "pyplot.ylabel('IDF')\n",
    "pyplot.xlabel('Sorted feature')\n",
    "pyplot.show()"
   ]
  },
  {
   "cell_type": "markdown",
   "metadata": {},
   "source": [
    "#### Highest ranked features"
   ]
  },
  {
   "cell_type": "code",
   "execution_count": 57,
   "metadata": {},
   "outputs": [],
   "source": [
    "feature_index_to_original_ID_dict = {value:key for key,value in feature_original_ID_to_index_dict.items()}"
   ]
  },
  {
   "cell_type": "code",
   "execution_count": 58,
   "metadata": {},
   "outputs": [
    {
     "name": "stdout",
     "output_type": "stream",
     "text": [
      "Tour de France\n",
      "Parkour: Getting Around Obstacles A Great Complement To Being Alive\n",
      "I Guess Nude Terminators Can't Kill A Really Bad Film\n",
      "The Whole Tromeo & Juliet Threw Me Off But Thank Gawd They Didn't Talk Like Bill The Spear Shaker\n",
      "What If The Big Bad Wolf & Grandma Were Swapping Spit?\n",
      "An Orifice & A Gentle Hand Refried For '06\n",
      "Read All The Negative Reviews & Save 2 Hours Of Your Life!\n",
      "'Lemme Get This Straight. You Have No Idea Who You Are But You Wanna Be Famous?'\n",
      "If I See One More Roast Beef Sandwich You Will Smell My Reaction\n",
      "Obviously Hillary Had A Different Meaning For \"Secret Service\"\n",
      "Ethan Hunt Should Stop Hogging The Screen!\n",
      "'Priceline Negotiator!'\n",
      "The Power Of The P\n",
      "Believe In Your Ability To See Stoopid Plotlines\n",
      "Not Even Uma Could Save This Dizaster! Wanda Yikes!\n",
      "It's Not Size Of Your Stick But Why You Keep On Swingin' It!\n",
      "'So How Did Lois Survive Date Nite?'\n",
      "A Comedy Version Of Matchpoint\n",
      "You Would Do Anything In The Universe To Get Rachael Weisz Back As Well\n",
      "Or How The Last Of The Mohican Killed The Predator Escaping From The Thunderdome\n"
     ]
    }
   ],
   "source": [
    "sorted_features = np.argsort(-IDF)\n",
    "\n",
    "highest_ranked_features = sorted_features[:20]\n",
    "\n",
    "for feature_index in highest_ranked_features:\n",
    "    print(feature_index_to_original_ID_dict[feature_index])"
   ]
  },
  {
   "cell_type": "markdown",
   "metadata": {},
   "source": [
    "#### Lowest ranked features"
   ]
  },
  {
   "cell_type": "code",
   "execution_count": 59,
   "metadata": {},
   "outputs": [
    {
     "name": "stdout",
     "output_type": "stream",
     "text": [
      "atmospheric\n",
      "library\n",
      "seen more than once\n",
      "Nudity (Topless - Brief)\n",
      "To See\n",
      "adapted from:book\n",
      "imdb top 250\n",
      "Can't remember\n",
      "classic\n",
      "Bibliothek\n",
      "Betamax\n",
      "National Film Registry\n",
      "movie to see\n",
      "Nudity (Topless)\n",
      "based on a book\n",
      "70mm\n",
      "R\n",
      "erlend's DVDs\n",
      "less than 300 ratings\n",
      "Tumey's DVDs\n"
     ]
    }
   ],
   "source": [
    "lowest_ranked_features = sorted_features[-20:]\n",
    "\n",
    "for feature_index in lowest_ranked_features:\n",
    "    print(feature_index_to_original_ID_dict[feature_index])    "
   ]
  },
  {
   "cell_type": "code",
   "execution_count": 60,
   "metadata": {},
   "outputs": [
    {
     "data": {
      "text/plain": [
       "<16529x16529 sparse matrix of type '<class 'numpy.float64'>'\n",
       "\twith 16529 stored elements (1 diagonals) in DIAgonal format>"
      ]
     },
     "execution_count": 60,
     "metadata": {},
     "output_type": "execute_result"
    }
   ],
   "source": [
    "from scipy.sparse import diags\n",
    "diags(IDF)"
   ]
  },
  {
   "cell_type": "code",
   "execution_count": 61,
   "metadata": {},
   "outputs": [],
   "source": [
    "ICM_idf = ICM_all.copy()\n",
    "\n",
    "ICM_idf = ICM_idf*diags(IDF)"
   ]
  },
  {
   "cell_type": "code",
   "execution_count": 62,
   "metadata": {
    "scrolled": true
   },
   "outputs": [
    {
     "name": "stdout",
     "output_type": "stream",
     "text": [
      "ItemKNNCBFRecommender: URM Detected 1689 ( 2.4%) users with no interactions.\n",
      "ItemKNNCBFRecommender: URM Detected 75 ( 0.7%) items with no interactions.\n",
      "ItemKNNCBFRecommender: ICM Detected 3080 (28.8%) items with no features.\n",
      "Unable to load Cython Compute_Similarity, reverting to Python\n",
      "Similarity column 10681 (100.0%), 7535.72 column/sec. Elapsed time 1.42 sec\n",
      "EvaluatorHoldout: Processed 69785 (100.0%) in 37.85 sec. Users per second: 1844\n"
     ]
    },
    {
     "data": {
      "text/plain": [
       "PRECISION                     0.064581\n",
       "PRECISION_RECALL_MIN_DEN      0.069599\n",
       "RECALL                        0.031548\n",
       "MAP                           0.032934\n",
       "MAP_MIN_DEN                   0.035178\n",
       "MRR                           0.181946\n",
       "NDCG                          0.061869\n",
       "F1                            0.042389\n",
       "HIT_RATE                      0.360765\n",
       "ARHR_ALL_HITS                 0.241879\n",
       "NOVELTY                       0.012852\n",
       "AVERAGE_POPULARITY            0.146346\n",
       "DIVERSITY_MEAN_INTER_LIST     0.974687\n",
       "DIVERSITY_HERFINDAHL          0.997467\n",
       "COVERAGE_ITEM                 0.496864\n",
       "COVERAGE_ITEM_HIT             0.119558\n",
       "ITEMS_IN_GT                   0.959835\n",
       "COVERAGE_USER                   0.9751\n",
       "COVERAGE_USER_HIT             0.351782\n",
       "USERS_IN_GT                     0.9751\n",
       "DIVERSITY_GINI                0.086194\n",
       "SHANNON_ENTROPY               9.981998\n",
       "RATIO_DIVERSITY_HERFINDAHL     0.99822\n",
       "RATIO_DIVERSITY_GINI          0.442793\n",
       "RATIO_SHANNON_ENTROPY         0.881453\n",
       "RATIO_AVERAGE_POPULARITY      0.520061\n",
       "RATIO_NOVELTY                 0.135545\n",
       "Name: 10, dtype: object"
      ]
     },
     "execution_count": 62,
     "metadata": {},
     "output_type": "execute_result"
    }
   ],
   "source": [
    "recommender_idf = ItemKNNCBFRecommender(URM_train, ICM_idf)\n",
    "recommender_idf.fit(shrink=0.0, topK=50)\n",
    "\n",
    "result_df, _ = evaluator_test.evaluateRecommender(recommender_idf)\n",
    "result_df.loc[10]"
   ]
  },
  {
   "cell_type": "markdown",
   "metadata": {},
   "source": [
    "#### Try other feature weighting methods like BM25..."
   ]
  },
  {
   "cell_type": "markdown",
   "metadata": {},
   "source": [
    "# BM25"
   ]
  },
  {
   "cell_type": "code",
   "execution_count": 63,
   "metadata": {},
   "outputs": [],
   "source": [
    "from Recommenders.IR_feature_weighting import okapi_BM_25\n",
    "\n",
    "ICM_BM25 = ICM_all.copy().astype(np.float32)\n",
    "ICM_BM25 = okapi_BM_25(ICM_BM25)\n",
    "ICM_BM25 = ICM_BM25.tocsr()"
   ]
  },
  {
   "cell_type": "code",
   "execution_count": 64,
   "metadata": {
    "scrolled": true
   },
   "outputs": [
    {
     "name": "stdout",
     "output_type": "stream",
     "text": [
      "ItemKNNCBFRecommender: URM Detected 1689 ( 2.4%) users with no interactions.\n",
      "ItemKNNCBFRecommender: URM Detected 75 ( 0.7%) items with no interactions.\n",
      "ItemKNNCBFRecommender: ICM Detected 3080 (28.8%) items with no features.\n",
      "Unable to load Cython Compute_Similarity, reverting to Python\n",
      "Similarity column 10681 (100.0%), 4795.69 column/sec. Elapsed time 2.23 sec\n",
      "EvaluatorHoldout: Processed 69785 (100.0%) in 38.43 sec. Users per second: 1816\n"
     ]
    },
    {
     "data": {
      "text/plain": [
       "PRECISION                     0.068437\n",
       "PRECISION_RECALL_MIN_DEN      0.073709\n",
       "RECALL                         0.03331\n",
       "MAP                            0.03511\n",
       "MAP_MIN_DEN                   0.037474\n",
       "MRR                           0.190552\n",
       "NDCG                          0.065515\n",
       "F1                             0.04481\n",
       "HIT_RATE                      0.375195\n",
       "ARHR_ALL_HITS                  0.25534\n",
       "NOVELTY                       0.012719\n",
       "AVERAGE_POPULARITY            0.157677\n",
       "DIVERSITY_MEAN_INTER_LIST     0.973124\n",
       "DIVERSITY_HERFINDAHL          0.997311\n",
       "COVERAGE_ITEM                 0.498174\n",
       "COVERAGE_ITEM_HIT             0.120962\n",
       "ITEMS_IN_GT                   0.959835\n",
       "COVERAGE_USER                   0.9751\n",
       "COVERAGE_USER_HIT             0.365853\n",
       "USERS_IN_GT                     0.9751\n",
       "DIVERSITY_GINI                0.084211\n",
       "SHANNON_ENTROPY               9.928453\n",
       "RATIO_DIVERSITY_HERFINDAHL    0.998064\n",
       "RATIO_DIVERSITY_GINI          0.432608\n",
       "RATIO_SHANNON_ENTROPY         0.876724\n",
       "RATIO_AVERAGE_POPULARITY      0.560325\n",
       "RATIO_NOVELTY                 0.134145\n",
       "Name: 10, dtype: object"
      ]
     },
     "execution_count": 64,
     "metadata": {},
     "output_type": "execute_result"
    }
   ],
   "source": [
    "recommender_bm25 = ItemKNNCBFRecommender(URM_train, ICM_BM25)\n",
    "recommender_bm25.fit(shrink=0.0, topK=50)\n",
    "\n",
    "result_df, _ = evaluator_test.evaluateRecommender(recommender_bm25)\n",
    "result_df.loc[10]"
   ]
  },
  {
   "cell_type": "markdown",
   "metadata": {},
   "source": [
    "#### A small gain over TF-IDF"
   ]
  },
  {
   "cell_type": "markdown",
   "metadata": {},
   "source": [
    "# Unnormalized similarity matrix"
   ]
  },
  {
   "cell_type": "code",
   "execution_count": 65,
   "metadata": {},
   "outputs": [
    {
     "name": "stdout",
     "output_type": "stream",
     "text": [
      "ItemKNNCBFRecommender: URM Detected 1689 ( 2.4%) users with no interactions.\n",
      "ItemKNNCBFRecommender: URM Detected 75 ( 0.7%) items with no interactions.\n",
      "ItemKNNCBFRecommender: ICM Detected 3080 (28.8%) items with no features.\n",
      "EvaluatorHoldout: Processed 69785 (100.0%) in 1.05 min. Users per second: 1107\n"
     ]
    },
    {
     "data": {
      "text/plain": [
       "PRECISION                     0.123802\n",
       "PRECISION_RECALL_MIN_DEN       0.13431\n",
       "RECALL                        0.060202\n",
       "MAP                            0.06839\n",
       "MAP_MIN_DEN                    0.07331\n",
       "MRR                           0.327221\n",
       "NDCG                          0.130527\n",
       "F1                             0.08101\n",
       "HIT_RATE                      0.585971\n",
       "ARHR_ALL_HITS                 0.462738\n",
       "NOVELTY                       0.008519\n",
       "AVERAGE_POPULARITY            0.583097\n",
       "DIVERSITY_MEAN_INTER_LIST     0.599587\n",
       "DIVERSITY_HERFINDAHL          0.959958\n",
       "COVERAGE_ITEM                 0.045033\n",
       "COVERAGE_ITEM_HIT             0.018725\n",
       "ITEMS_IN_GT                   0.959835\n",
       "COVERAGE_USER                   0.9751\n",
       "COVERAGE_USER_HIT             0.571381\n",
       "USERS_IN_GT                     0.9751\n",
       "DIVERSITY_GINI                0.002439\n",
       "SHANNON_ENTROPY               5.047723\n",
       "RATIO_DIVERSITY_HERFINDAHL    0.960683\n",
       "RATIO_DIVERSITY_GINI           0.01253\n",
       "RATIO_SHANNON_ENTROPY         0.445735\n",
       "RATIO_AVERAGE_POPULARITY      2.072115\n",
       "RATIO_NOVELTY                 0.089847\n",
       "Name: 10, dtype: object"
      ]
     },
     "execution_count": 65,
     "metadata": {},
     "output_type": "execute_result"
    }
   ],
   "source": [
    "recommender_dot = ItemKNNCBFRecommender(URM_train, ICM_all)\n",
    "recommender_dot.W_sparse = ICM_all * ICM_all.T\n",
    "\n",
    "result_df, _ = evaluator_test.evaluateRecommender(recommender_dot)\n",
    "result_df.loc[10]"
   ]
  },
  {
   "cell_type": "code",
   "execution_count": null,
   "metadata": {},
   "outputs": [],
   "source": []
  }
 ],
 "metadata": {
  "anaconda-cloud": {},
  "kernelspec": {
   "display_name": "Python 3",
   "language": "python",
   "name": "python3"
  },
  "language_info": {
   "codemirror_mode": {
    "name": "ipython",
    "version": 3
   },
   "file_extension": ".py",
   "mimetype": "text/x-python",
   "name": "python",
   "nbconvert_exporter": "python",
   "pygments_lexer": "ipython3",
   "version": "3.7.16"
  }
 },
 "nbformat": 4,
 "nbformat_minor": 1
}
